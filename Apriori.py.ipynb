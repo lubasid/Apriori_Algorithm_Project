{
 "cells": [
  {
   "cell_type": "code",
   "execution_count": 198,
   "metadata": {
    "scrolled": true
   },
   "outputs": [],
   "source": [
    "# Authors: Lyubov Sidlinskaya, Caleb Sutton\n",
    "# Assignment: Final Project: Apriori Algorithm\n",
    "# Description:\n",
    "# Course: CSC 535 Data Mining\n",
    "# Date: 04-02-2018\n",
    "\n",
    "# Import packages\n",
    "import numpy as np\n",
    "import pandas as pd\n",
    "import scipy as sci\n",
    "\n",
    "def apriori(datasetFrame):\n",
    "    k_value = 0  # Is the scan number\n",
    "    L = []      # Empty set.\n",
    "    # Get support values for initial items{}\n",
    "    itemset_s = getSupport(datasetFrame)\n",
    "    print (itemset_s)\n",
    "    counter_var = 1\n",
    "    candidates = datasetFrame\n",
    "    while counter_var != 2:\n",
    "        largeItemset = getLargeItemset(itemset_s)\n",
    "        counter_var +=1\n",
    "#     for (k = 1; L_)\n",
    "    \n",
    "#     C_1 = dataset\n",
    "#     for item in dataset:\n",
    "#         k_value +=1\n",
    "#         L_k = []    # Empty subset\n",
    "    "
   ]
  },
  {
   "cell_type": "code",
   "execution_count": 199,
   "metadata": {},
   "outputs": [],
   "source": [
    "# Function which returns the support for the dataset as a dictionary\n",
    "# in the form:    {'BISCUIT': 0.3125.....}\n",
    "def getSupport(dataset):\n",
    "    df = dataset\n",
    "    count_table = df.apply(pd.value_counts)\n",
    "    count_table[\"support\"] = count_table.sum(axis = 1) / (len(df)-1)\n",
    "    support_dict = count_table[\"support\"].to_dict()\n",
    "    return support_dict\n",
    "def getLargeItemset(itemset):\n",
    "        for item in itemset:\n",
    "            support = itemset[item]\n",
    "            if support >= 0.15 * 16:\n",
    "                #Add to large Itemsets\n",
    "                print (support)"
   ]
  },
  {
   "cell_type": "code",
   "execution_count": 200,
   "metadata": {},
   "outputs": [
    {
     "name": "stdout",
     "output_type": "stream",
     "text": [
      "{'BISCUIT': 0.3125, 'BOURNVITA': 0.25, 'BREAD': 0.75, 'COFFEE': 0.3125, 'CORNFLAKES': 0.25, 'JAM': 0.125, 'MAGGI': 0.3125, 'MILK': 0.3125, 'SUGER': 0.375, 'TEA': 0.4375}\n"
     ]
    }
   ],
   "source": [
    "def main():\n",
    "    dataset = pd.read_csv(\"GroceryStoreDataSet.csv\", header = None)\n",
    "    support_int = 0.15\n",
    "    datasetFrame = pd.DataFrame(dataset)\n",
    "    apriori(datasetFrame)\n",
    "    \n",
    "    #print (datasetFrame)\n",
    "    \n",
    "main()"
   ]
  },
  {
   "cell_type": "code",
   "execution_count": null,
   "metadata": {
    "collapsed": true
   },
   "outputs": [],
   "source": []
  }
 ],
 "metadata": {
  "kernelspec": {
   "display_name": "Python 3",
   "language": "python",
   "name": "python3"
  },
  "language_info": {
   "codemirror_mode": {
    "name": "ipython",
    "version": 3
   },
   "file_extension": ".py",
   "mimetype": "text/x-python",
   "name": "python",
   "nbconvert_exporter": "python",
   "pygments_lexer": "ipython3",
   "version": "3.6.3"
  }
 },
 "nbformat": 4,
 "nbformat_minor": 2
}
